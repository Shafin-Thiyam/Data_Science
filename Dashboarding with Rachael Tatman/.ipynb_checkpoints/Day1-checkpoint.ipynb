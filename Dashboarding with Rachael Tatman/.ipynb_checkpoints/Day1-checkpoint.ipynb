{
 "cells": [
  {
   "cell_type": "markdown",
   "metadata": {},
   "source": [
    "# World Bank EDA for dashboard"
   ]
  },
  {
   "cell_type": "markdown",
   "metadata": {},
   "source": [
    "## Day 1"
   ]
  },
  {
   "cell_type": "code",
   "execution_count": 2,
   "metadata": {
    "collapsed": true
   },
   "outputs": [],
   "source": [
    "import numpy as np # linear algebra\n",
    "import pandas as pd # data processing, CSV file I/O (e.g. pd.read_csv)\n",
    "import os"
   ]
  },
  {
   "cell_type": "code",
   "execution_count": 3,
   "metadata": {
    "collapsed": true
   },
   "outputs": [],
   "source": [
    "import datetime as dt "
   ]
  },
  {
   "cell_type": "code",
   "execution_count": 1,
   "metadata": {},
   "outputs": [],
   "source": [
    "import plotly.plotly as py"
   ]
  },
  {
   "cell_type": "code",
   "execution_count": 4,
   "metadata": {},
   "outputs": [
    {
     "name": "stdout",
     "output_type": "stream",
     "text": [
      "['procurement-notices.csv', 'socrata_metadata.json']\n"
     ]
    }
   ],
   "source": [
    "print(os.listdir(\"Dataset\"))"
   ]
  },
  {
   "cell_type": "code",
   "execution_count": 5,
   "metadata": {
    "collapsed": true
   },
   "outputs": [],
   "source": [
    "proc_data=pd.read_csv('Dataset/procurement-notices.csv',parse_dates=['Publication Date', 'Deadline Date'])"
   ]
  },
  {
   "cell_type": "code",
   "execution_count": 6,
   "metadata": {},
   "outputs": [
    {
     "name": "stdout",
     "output_type": "stream",
     "text": [
      "<class 'pandas.core.frame.DataFrame'>\n",
      "RangeIndex: 1336 entries, 0 to 1335\n",
      "Data columns (total 11 columns):\n",
      "ID                  1336 non-null int64\n",
      "URL                 1336 non-null object\n",
      "Notice Type         1336 non-null object\n",
      "Publication Date    1336 non-null datetime64[ns]\n",
      "Project ID          1336 non-null object\n",
      "Bid Description     1327 non-null object\n",
      "Procurement Type    371 non-null object\n",
      "Deadline Date       371 non-null datetime64[ns]\n",
      "Country Code        1051 non-null object\n",
      "Country Name        1336 non-null object\n",
      "Major Sector        1113 non-null object\n",
      "dtypes: datetime64[ns](2), int64(1), object(8)\n",
      "memory usage: 73.1+ KB\n"
     ]
    }
   ],
   "source": [
    "proc_data.info()"
   ]
  },
  {
   "cell_type": "markdown",
   "metadata": {},
   "source": [
    "** Number of call currently out**"
   ]
  },
  {
   "cell_type": "code",
   "execution_count": 7,
   "metadata": {
    "collapsed": true
   },
   "outputs": [],
   "source": [
    "proc_data.rename(columns = {'Notice Type': 'Notice_Type','Publication Date':'Pub_Date','Project ID':'Proj_ID','Bid Description':'Bid_Desc','Procurement Type':'Procurement_Type','Deadline Date':'Deadline_Date','Country Code':'Country_Code','Country Name':'Country_Name','Major Sector':'Major_Sector'}, inplace = True)"
   ]
  },
  {
   "cell_type": "code",
   "execution_count": 8,
   "metadata": {},
   "outputs": [
    {
     "data": {
      "text/html": [
       "<div>\n",
       "<style scoped>\n",
       "    .dataframe tbody tr th:only-of-type {\n",
       "        vertical-align: middle;\n",
       "    }\n",
       "\n",
       "    .dataframe tbody tr th {\n",
       "        vertical-align: top;\n",
       "    }\n",
       "\n",
       "    .dataframe thead th {\n",
       "        text-align: right;\n",
       "    }\n",
       "</style>\n",
       "<table border=\"1\" class=\"dataframe\">\n",
       "  <thead>\n",
       "    <tr style=\"text-align: right;\">\n",
       "      <th></th>\n",
       "      <th>ID</th>\n",
       "      <th>URL</th>\n",
       "      <th>Notice_Type</th>\n",
       "      <th>Pub_Date</th>\n",
       "      <th>Proj_ID</th>\n",
       "      <th>Bid_Desc</th>\n",
       "      <th>Procurement_Type</th>\n",
       "      <th>Deadline_Date</th>\n",
       "      <th>Country_Code</th>\n",
       "      <th>Country_Name</th>\n",
       "      <th>Major_Sector</th>\n",
       "    </tr>\n",
       "  </thead>\n",
       "  <tbody>\n",
       "    <tr>\n",
       "      <th>0</th>\n",
       "      <td>63137</td>\n",
       "      <td>{'url': 'http://projects.worldbank.org/procure...</td>\n",
       "      <td>General Procurement Notice</td>\n",
       "      <td>2018-12-16</td>\n",
       "      <td>P167000</td>\n",
       "      <td>NaN</td>\n",
       "      <td>NaN</td>\n",
       "      <td>NaT</td>\n",
       "      <td>EG</td>\n",
       "      <td>Egypt, Arab Republic of</td>\n",
       "      <td>NaN</td>\n",
       "    </tr>\n",
       "    <tr>\n",
       "      <th>1</th>\n",
       "      <td>63122</td>\n",
       "      <td>{'url': 'http://projects.worldbank.org/procure...</td>\n",
       "      <td>Request for Expression of Interest</td>\n",
       "      <td>2018-12-16</td>\n",
       "      <td>P164443</td>\n",
       "      <td>Hiring of FP for North East region: Province B...</td>\n",
       "      <td>Consultants</td>\n",
       "      <td>2019-01-01</td>\n",
       "      <td>AF</td>\n",
       "      <td>Afghanistan</td>\n",
       "      <td>NaN</td>\n",
       "    </tr>\n",
       "    <tr>\n",
       "      <th>2</th>\n",
       "      <td>63128</td>\n",
       "      <td>{'url': 'http://projects.worldbank.org/procure...</td>\n",
       "      <td>Request for Expression of Interest</td>\n",
       "      <td>2018-12-16</td>\n",
       "      <td>P164443</td>\n",
       "      <td>Hiring of FP for Central Region: Wardak (Mayda...</td>\n",
       "      <td>Consultants</td>\n",
       "      <td>2019-01-01</td>\n",
       "      <td>AF</td>\n",
       "      <td>Afghanistan</td>\n",
       "      <td>NaN</td>\n",
       "    </tr>\n",
       "    <tr>\n",
       "      <th>3</th>\n",
       "      <td>63129</td>\n",
       "      <td>{'url': 'http://projects.worldbank.org/procure...</td>\n",
       "      <td>Request for Expression of Interest</td>\n",
       "      <td>2018-12-16</td>\n",
       "      <td>P164443</td>\n",
       "      <td>Hiring of FP for South West region: Province Z...</td>\n",
       "      <td>Consultants</td>\n",
       "      <td>2019-01-01</td>\n",
       "      <td>AF</td>\n",
       "      <td>Afghanistan</td>\n",
       "      <td>NaN</td>\n",
       "    </tr>\n",
       "    <tr>\n",
       "      <th>4</th>\n",
       "      <td>63135</td>\n",
       "      <td>{'url': 'http://projects.worldbank.org/procure...</td>\n",
       "      <td>Contract Award</td>\n",
       "      <td>2018-12-16</td>\n",
       "      <td>P163857</td>\n",
       "      <td>Small Contracts Award (DIR,CQS,INDV,SSS)</td>\n",
       "      <td>NaN</td>\n",
       "      <td>NaT</td>\n",
       "      <td>NaN</td>\n",
       "      <td>Somalia</td>\n",
       "      <td>Sub-National Government, Rural and Inter-Urban...</td>\n",
       "    </tr>\n",
       "  </tbody>\n",
       "</table>\n",
       "</div>"
      ],
      "text/plain": [
       "      ID                                                URL  \\\n",
       "0  63137  {'url': 'http://projects.worldbank.org/procure...   \n",
       "1  63122  {'url': 'http://projects.worldbank.org/procure...   \n",
       "2  63128  {'url': 'http://projects.worldbank.org/procure...   \n",
       "3  63129  {'url': 'http://projects.worldbank.org/procure...   \n",
       "4  63135  {'url': 'http://projects.worldbank.org/procure...   \n",
       "\n",
       "                          Notice_Type   Pub_Date  Proj_ID  \\\n",
       "0          General Procurement Notice 2018-12-16  P167000   \n",
       "1  Request for Expression of Interest 2018-12-16  P164443   \n",
       "2  Request for Expression of Interest 2018-12-16  P164443   \n",
       "3  Request for Expression of Interest 2018-12-16  P164443   \n",
       "4                      Contract Award 2018-12-16  P163857   \n",
       "\n",
       "                                            Bid_Desc Procurement_Type  \\\n",
       "0                                                NaN              NaN   \n",
       "1  Hiring of FP for North East region: Province B...      Consultants   \n",
       "2  Hiring of FP for Central Region: Wardak (Mayda...      Consultants   \n",
       "3  Hiring of FP for South West region: Province Z...      Consultants   \n",
       "4           Small Contracts Award (DIR,CQS,INDV,SSS)              NaN   \n",
       "\n",
       "  Deadline_Date Country_Code             Country_Name  \\\n",
       "0           NaT           EG  Egypt, Arab Republic of   \n",
       "1    2019-01-01           AF              Afghanistan   \n",
       "2    2019-01-01           AF              Afghanistan   \n",
       "3    2019-01-01           AF              Afghanistan   \n",
       "4           NaT          NaN                  Somalia   \n",
       "\n",
       "                                        Major_Sector  \n",
       "0                                                NaN  \n",
       "1                                                NaN  \n",
       "2                                                NaN  \n",
       "3                                                NaN  \n",
       "4  Sub-National Government, Rural and Inter-Urban...  "
      ]
     },
     "execution_count": 8,
     "metadata": {},
     "output_type": "execute_result"
    }
   ],
   "source": [
    "proc_data.head()"
   ]
  },
  {
   "cell_type": "code",
   "execution_count": 11,
   "metadata": {},
   "outputs": [],
   "source": [
    "current_calls=proc_data[proc_data.Deadline_Date > pd.datetime.today()]"
   ]
  },
  {
   "cell_type": "code",
   "execution_count": 12,
   "metadata": {},
   "outputs": [
    {
     "data": {
      "text/html": [
       "<div>\n",
       "<style scoped>\n",
       "    .dataframe tbody tr th:only-of-type {\n",
       "        vertical-align: middle;\n",
       "    }\n",
       "\n",
       "    .dataframe tbody tr th {\n",
       "        vertical-align: top;\n",
       "    }\n",
       "\n",
       "    .dataframe thead th {\n",
       "        text-align: right;\n",
       "    }\n",
       "</style>\n",
       "<table border=\"1\" class=\"dataframe\">\n",
       "  <thead>\n",
       "    <tr style=\"text-align: right;\">\n",
       "      <th></th>\n",
       "      <th>ID</th>\n",
       "      <th>URL</th>\n",
       "      <th>Notice_Type</th>\n",
       "      <th>Pub_Date</th>\n",
       "      <th>Proj_ID</th>\n",
       "      <th>Bid_Desc</th>\n",
       "      <th>Procurement_Type</th>\n",
       "      <th>Deadline_Date</th>\n",
       "      <th>Country_Code</th>\n",
       "      <th>Country_Name</th>\n",
       "      <th>Major_Sector</th>\n",
       "    </tr>\n",
       "  </thead>\n",
       "  <tbody>\n",
       "    <tr>\n",
       "      <th>1</th>\n",
       "      <td>63122</td>\n",
       "      <td>{'url': 'http://projects.worldbank.org/procure...</td>\n",
       "      <td>Request for Expression of Interest</td>\n",
       "      <td>2018-12-16</td>\n",
       "      <td>P164443</td>\n",
       "      <td>Hiring of FP for North East region: Province B...</td>\n",
       "      <td>Consultants</td>\n",
       "      <td>2019-01-01</td>\n",
       "      <td>AF</td>\n",
       "      <td>Afghanistan</td>\n",
       "      <td>NaN</td>\n",
       "    </tr>\n",
       "    <tr>\n",
       "      <th>2</th>\n",
       "      <td>63128</td>\n",
       "      <td>{'url': 'http://projects.worldbank.org/procure...</td>\n",
       "      <td>Request for Expression of Interest</td>\n",
       "      <td>2018-12-16</td>\n",
       "      <td>P164443</td>\n",
       "      <td>Hiring of FP for Central Region: Wardak (Mayda...</td>\n",
       "      <td>Consultants</td>\n",
       "      <td>2019-01-01</td>\n",
       "      <td>AF</td>\n",
       "      <td>Afghanistan</td>\n",
       "      <td>NaN</td>\n",
       "    </tr>\n",
       "    <tr>\n",
       "      <th>3</th>\n",
       "      <td>63129</td>\n",
       "      <td>{'url': 'http://projects.worldbank.org/procure...</td>\n",
       "      <td>Request for Expression of Interest</td>\n",
       "      <td>2018-12-16</td>\n",
       "      <td>P164443</td>\n",
       "      <td>Hiring of FP for South West region: Province Z...</td>\n",
       "      <td>Consultants</td>\n",
       "      <td>2019-01-01</td>\n",
       "      <td>AF</td>\n",
       "      <td>Afghanistan</td>\n",
       "      <td>NaN</td>\n",
       "    </tr>\n",
       "    <tr>\n",
       "      <th>5</th>\n",
       "      <td>63131</td>\n",
       "      <td>{'url': 'http://projects.worldbank.org/procure...</td>\n",
       "      <td>Request for Expression of Interest</td>\n",
       "      <td>2018-12-16</td>\n",
       "      <td>P164443</td>\n",
       "      <td>Hiring of FP for South West region: Helmand pr...</td>\n",
       "      <td>Consultants</td>\n",
       "      <td>2019-01-01</td>\n",
       "      <td>AF</td>\n",
       "      <td>Afghanistan</td>\n",
       "      <td>NaN</td>\n",
       "    </tr>\n",
       "    <tr>\n",
       "      <th>8</th>\n",
       "      <td>63127</td>\n",
       "      <td>{'url': 'http://projects.worldbank.org/procure...</td>\n",
       "      <td>Request for Expression of Interest</td>\n",
       "      <td>2018-12-16</td>\n",
       "      <td>P164443</td>\n",
       "      <td>Hiring of FP for North East region: Province T...</td>\n",
       "      <td>Consultants</td>\n",
       "      <td>2019-01-01</td>\n",
       "      <td>AF</td>\n",
       "      <td>Afghanistan</td>\n",
       "      <td>NaN</td>\n",
       "    </tr>\n",
       "  </tbody>\n",
       "</table>\n",
       "</div>"
      ],
      "text/plain": [
       "      ID                                                URL  \\\n",
       "1  63122  {'url': 'http://projects.worldbank.org/procure...   \n",
       "2  63128  {'url': 'http://projects.worldbank.org/procure...   \n",
       "3  63129  {'url': 'http://projects.worldbank.org/procure...   \n",
       "5  63131  {'url': 'http://projects.worldbank.org/procure...   \n",
       "8  63127  {'url': 'http://projects.worldbank.org/procure...   \n",
       "\n",
       "                          Notice_Type   Pub_Date  Proj_ID  \\\n",
       "1  Request for Expression of Interest 2018-12-16  P164443   \n",
       "2  Request for Expression of Interest 2018-12-16  P164443   \n",
       "3  Request for Expression of Interest 2018-12-16  P164443   \n",
       "5  Request for Expression of Interest 2018-12-16  P164443   \n",
       "8  Request for Expression of Interest 2018-12-16  P164443   \n",
       "\n",
       "                                            Bid_Desc Procurement_Type  \\\n",
       "1  Hiring of FP for North East region: Province B...      Consultants   \n",
       "2  Hiring of FP for Central Region: Wardak (Mayda...      Consultants   \n",
       "3  Hiring of FP for South West region: Province Z...      Consultants   \n",
       "5  Hiring of FP for South West region: Helmand pr...      Consultants   \n",
       "8  Hiring of FP for North East region: Province T...      Consultants   \n",
       "\n",
       "  Deadline_Date Country_Code Country_Name Major_Sector  \n",
       "1    2019-01-01           AF  Afghanistan          NaN  \n",
       "2    2019-01-01           AF  Afghanistan          NaN  \n",
       "3    2019-01-01           AF  Afghanistan          NaN  \n",
       "5    2019-01-01           AF  Afghanistan          NaN  \n",
       "8    2019-01-01           AF  Afghanistan          NaN  "
      ]
     },
     "execution_count": 12,
     "metadata": {},
     "output_type": "execute_result"
    }
   ],
   "source": [
    "current_calls.head()"
   ]
  },
  {
   "cell_type": "markdown",
   "metadata": {},
   "source": [
    "**Distribution By country**"
   ]
  },
  {
   "cell_type": "code",
   "execution_count": 15,
   "metadata": {},
   "outputs": [],
   "source": [
    "cal_by_country=current_calls.groupby('Country_Code')"
   ]
  },
  {
   "cell_type": "code",
   "execution_count": 17,
   "metadata": {},
   "outputs": [
    {
     "name": "stdout",
     "output_type": "stream",
     "text": [
      "Aw, snap! We didn't get a username with your request.\n",
      "\n",
      "Don't have an account? https://plot.ly/api_signup\n",
      "\n",
      "Questions? accounts@plot.ly\n"
     ]
    },
    {
     "ename": "PlotlyError",
     "evalue": "Because you didn't supply a 'file_id' in the call, we're assuming you're trying to snag a figure from a url. You supplied the url, '', we expected it to start with 'https://plot.ly'.\nRun help on this function for more information.",
     "output_type": "error",
     "traceback": [
      "\u001b[1;31m---------------------------------------------------------------------------\u001b[0m",
      "\u001b[1;31mPlotlyError\u001b[0m                               Traceback (most recent call last)",
      "\u001b[1;32m<ipython-input-17-3772a9a0dea8>\u001b[0m in \u001b[0;36m<module>\u001b[1;34m()\u001b[0m\n\u001b[0;32m     35\u001b[0m \u001b[1;33m\u001b[0m\u001b[0m\n\u001b[0;32m     36\u001b[0m \u001b[0mfig\u001b[0m \u001b[1;33m=\u001b[0m \u001b[0mdict\u001b[0m\u001b[1;33m(\u001b[0m \u001b[0mdata\u001b[0m\u001b[1;33m=\u001b[0m\u001b[0mdata\u001b[0m\u001b[1;33m,\u001b[0m \u001b[0mlayout\u001b[0m\u001b[1;33m=\u001b[0m\u001b[0mlayout\u001b[0m \u001b[1;33m)\u001b[0m\u001b[1;33m\u001b[0m\u001b[0m\n\u001b[1;32m---> 37\u001b[1;33m \u001b[0mpy\u001b[0m\u001b[1;33m.\u001b[0m\u001b[0miplot\u001b[0m\u001b[1;33m(\u001b[0m \u001b[0mfig\u001b[0m\u001b[1;33m,\u001b[0m \u001b[0mfilename\u001b[0m\u001b[1;33m=\u001b[0m\u001b[1;34m'd3-cloropleth-map'\u001b[0m \u001b[1;33m)\u001b[0m\u001b[1;33m\u001b[0m\u001b[0m\n\u001b[0m",
      "\u001b[1;32mc:\\python36\\lib\\site-packages\\plotly\\plotly\\plotly.py\u001b[0m in \u001b[0;36miplot\u001b[1;34m(figure_or_data, **plot_options)\u001b[0m\n\u001b[0;32m    156\u001b[0m         \u001b[0membed_options\u001b[0m\u001b[1;33m[\u001b[0m\u001b[1;34m'height'\u001b[0m\u001b[1;33m]\u001b[0m \u001b[1;33m=\u001b[0m \u001b[0mstr\u001b[0m\u001b[1;33m(\u001b[0m\u001b[0membed_options\u001b[0m\u001b[1;33m[\u001b[0m\u001b[1;34m'height'\u001b[0m\u001b[1;33m]\u001b[0m\u001b[1;33m)\u001b[0m \u001b[1;33m+\u001b[0m \u001b[1;34m'px'\u001b[0m\u001b[1;33m\u001b[0m\u001b[0m\n\u001b[0;32m    157\u001b[0m \u001b[1;33m\u001b[0m\u001b[0m\n\u001b[1;32m--> 158\u001b[1;33m     \u001b[1;32mreturn\u001b[0m \u001b[0mtools\u001b[0m\u001b[1;33m.\u001b[0m\u001b[0membed\u001b[0m\u001b[1;33m(\u001b[0m\u001b[0murl\u001b[0m\u001b[1;33m,\u001b[0m \u001b[1;33m**\u001b[0m\u001b[0membed_options\u001b[0m\u001b[1;33m)\u001b[0m\u001b[1;33m\u001b[0m\u001b[0m\n\u001b[0m\u001b[0;32m    159\u001b[0m \u001b[1;33m\u001b[0m\u001b[0m\n\u001b[0;32m    160\u001b[0m \u001b[1;33m\u001b[0m\u001b[0m\n",
      "\u001b[1;32mc:\\python36\\lib\\site-packages\\plotly\\tools.py\u001b[0m in \u001b[0;36membed\u001b[1;34m(file_owner_or_url, file_id, width, height)\u001b[0m\n\u001b[0;32m    388\u001b[0m         \u001b[1;32melse\u001b[0m\u001b[1;33m:\u001b[0m\u001b[1;33m\u001b[0m\u001b[0m\n\u001b[0;32m    389\u001b[0m             \u001b[0murl\u001b[0m \u001b[1;33m=\u001b[0m \u001b[0mfile_owner_or_url\u001b[0m\u001b[1;33m\u001b[0m\u001b[0m\n\u001b[1;32m--> 390\u001b[1;33m         \u001b[1;32mreturn\u001b[0m \u001b[0mPlotlyDisplay\u001b[0m\u001b[1;33m(\u001b[0m\u001b[0murl\u001b[0m\u001b[1;33m,\u001b[0m \u001b[0mwidth\u001b[0m\u001b[1;33m,\u001b[0m \u001b[0mheight\u001b[0m\u001b[1;33m)\u001b[0m\u001b[1;33m\u001b[0m\u001b[0m\n\u001b[0m\u001b[0;32m    391\u001b[0m     \u001b[1;32melse\u001b[0m\u001b[1;33m:\u001b[0m\u001b[1;33m\u001b[0m\u001b[0m\n\u001b[0;32m    392\u001b[0m         if (get_config_defaults()['plotly_domain']\n",
      "\u001b[1;32mc:\\python36\\lib\\site-packages\\plotly\\tools.py\u001b[0m in \u001b[0;36m__init__\u001b[1;34m(self, url, width, height)\u001b[0m\n\u001b[0;32m   1363\u001b[0m         \u001b[1;32mdef\u001b[0m \u001b[0m__init__\u001b[0m\u001b[1;33m(\u001b[0m\u001b[0mself\u001b[0m\u001b[1;33m,\u001b[0m \u001b[0murl\u001b[0m\u001b[1;33m,\u001b[0m \u001b[0mwidth\u001b[0m\u001b[1;33m,\u001b[0m \u001b[0mheight\u001b[0m\u001b[1;33m)\u001b[0m\u001b[1;33m:\u001b[0m\u001b[1;33m\u001b[0m\u001b[0m\n\u001b[0;32m   1364\u001b[0m             \u001b[0mself\u001b[0m\u001b[1;33m.\u001b[0m\u001b[0mresource\u001b[0m \u001b[1;33m=\u001b[0m \u001b[0murl\u001b[0m\u001b[1;33m\u001b[0m\u001b[0m\n\u001b[1;32m-> 1365\u001b[1;33m             \u001b[0mself\u001b[0m\u001b[1;33m.\u001b[0m\u001b[0membed_code\u001b[0m \u001b[1;33m=\u001b[0m \u001b[0mget_embed\u001b[0m\u001b[1;33m(\u001b[0m\u001b[0murl\u001b[0m\u001b[1;33m,\u001b[0m \u001b[0mwidth\u001b[0m\u001b[1;33m=\u001b[0m\u001b[0mwidth\u001b[0m\u001b[1;33m,\u001b[0m \u001b[0mheight\u001b[0m\u001b[1;33m=\u001b[0m\u001b[0mheight\u001b[0m\u001b[1;33m)\u001b[0m\u001b[1;33m\u001b[0m\u001b[0m\n\u001b[0m\u001b[0;32m   1366\u001b[0m             \u001b[0msuper\u001b[0m\u001b[1;33m(\u001b[0m\u001b[0mPlotlyDisplay\u001b[0m\u001b[1;33m,\u001b[0m \u001b[0mself\u001b[0m\u001b[1;33m)\u001b[0m\u001b[1;33m.\u001b[0m\u001b[0m__init__\u001b[0m\u001b[1;33m(\u001b[0m\u001b[0mdata\u001b[0m\u001b[1;33m=\u001b[0m\u001b[0mself\u001b[0m\u001b[1;33m.\u001b[0m\u001b[0membed_code\u001b[0m\u001b[1;33m)\u001b[0m\u001b[1;33m\u001b[0m\u001b[0m\n\u001b[0;32m   1367\u001b[0m \u001b[1;33m\u001b[0m\u001b[0m\n",
      "\u001b[1;32mc:\\python36\\lib\\site-packages\\plotly\\tools.py\u001b[0m in \u001b[0;36mget_embed\u001b[1;34m(file_owner_or_url, file_id, width, height)\u001b[0m\n\u001b[0;32m    293\u001b[0m                 \u001b[1;34m\"'{1}'.\"\u001b[0m\u001b[1;33m\u001b[0m\u001b[0m\n\u001b[0;32m    294\u001b[0m                 \u001b[1;34m\"\\nRun help on this function for more information.\"\u001b[0m\u001b[1;33m\u001b[0m\u001b[0m\n\u001b[1;32m--> 295\u001b[1;33m                 \"\".format(url, plotly_rest_url))\n\u001b[0m\u001b[0;32m    296\u001b[0m         \u001b[0murlsplit\u001b[0m \u001b[1;33m=\u001b[0m \u001b[0msix\u001b[0m\u001b[1;33m.\u001b[0m\u001b[0mmoves\u001b[0m\u001b[1;33m.\u001b[0m\u001b[0murllib\u001b[0m\u001b[1;33m.\u001b[0m\u001b[0mparse\u001b[0m\u001b[1;33m.\u001b[0m\u001b[0murlparse\u001b[0m\u001b[1;33m(\u001b[0m\u001b[0murl\u001b[0m\u001b[1;33m)\u001b[0m\u001b[1;33m\u001b[0m\u001b[0m\n\u001b[0;32m    297\u001b[0m         \u001b[0mfile_owner\u001b[0m \u001b[1;33m=\u001b[0m \u001b[0murlsplit\u001b[0m\u001b[1;33m.\u001b[0m\u001b[0mpath\u001b[0m\u001b[1;33m.\u001b[0m\u001b[0msplit\u001b[0m\u001b[1;33m(\u001b[0m\u001b[1;34m'/'\u001b[0m\u001b[1;33m)\u001b[0m\u001b[1;33m[\u001b[0m\u001b[1;36m1\u001b[0m\u001b[1;33m]\u001b[0m\u001b[1;33m.\u001b[0m\u001b[0msplit\u001b[0m\u001b[1;33m(\u001b[0m\u001b[1;34m'~'\u001b[0m\u001b[1;33m)\u001b[0m\u001b[1;33m[\u001b[0m\u001b[1;36m1\u001b[0m\u001b[1;33m]\u001b[0m\u001b[1;33m\u001b[0m\u001b[0m\n",
      "\u001b[1;31mPlotlyError\u001b[0m: Because you didn't supply a 'file_id' in the call, we're assuming you're trying to snag a figure from a url. You supplied the url, '', we expected it to start with 'https://plot.ly'.\nRun help on this function for more information."
     ]
    }
   ],
   "source": [
    "df = pd.read_csv('2011_us_ag_exports.csv')\n",
    "\n",
    "for col in df.columns:\n",
    "    df[col] = df[col].astype(str)\n",
    "\n",
    "scl = [[0.0, 'rgb(242,240,247)'],[0.2, 'rgb(218,218,235)'],[0.4, 'rgb(188,189,220)'],\\\n",
    "            [0.6, 'rgb(158,154,200)'],[0.8, 'rgb(117,107,177)'],[1.0, 'rgb(84,39,143)']]\n",
    "\n",
    "df['text'] = df['state'] + '<br>' +\\\n",
    "    'Beef '+df['beef']+' Dairy '+df['dairy']+'<br>'+\\\n",
    "    'Fruits '+df['total fruits']+' Veggies ' + df['total veggies']+'<br>'+\\\n",
    "    'Wheat '+df['wheat']+' Corn '+df['corn']\n",
    "\n",
    "data = [ dict(\n",
    "        type='choropleth',\n",
    "        colorscale = scl,\n",
    "        autocolorscale = False,\n",
    "        locations = df['code'],\n",
    "        z = df['total exports'].astype(float),\n",
    "        locationmode = 'USA-states',\n",
    "        text = df['text'],\n",
    "        marker = dict(\n",
    "            line = dict (\n",
    "                color = 'rgb(255,255,255)',\n",
    "                width = 2\n",
    "            ) ),\n",
    "        colorbar = dict(\n",
    "            title = \"Millions USD\")\n",
    "        ) ]\n",
    "\n",
    "layout = dict(\n",
    "        title = '2011 US Agriculture Exports by State<br>(Hover for breakdown)',\n",
    "        geo = dict(\n",
    "            scope='usa',\n",
    "            projection=dict( type='albers usa' ),\n",
    "            showlakes = True,\n",
    "            lakecolor = 'rgb(255, 255, 255)'),\n",
    "             )\n",
    "    \n",
    "fig = dict( data=data, layout=layout )\n",
    "py.iplot( fig, filename='d3-cloropleth-map' )"
   ]
  },
  {
   "cell_type": "code",
   "execution_count": null,
   "metadata": {
    "collapsed": true
   },
   "outputs": [],
   "source": []
  }
 ],
 "metadata": {
  "kernelspec": {
   "display_name": "Python 3",
   "language": "python",
   "name": "python3"
  },
  "language_info": {
   "codemirror_mode": {
    "name": "ipython",
    "version": 3
   },
   "file_extension": ".py",
   "mimetype": "text/x-python",
   "name": "python",
   "nbconvert_exporter": "python",
   "pygments_lexer": "ipython3",
   "version": "3.6.1"
  }
 },
 "nbformat": 4,
 "nbformat_minor": 2
}
